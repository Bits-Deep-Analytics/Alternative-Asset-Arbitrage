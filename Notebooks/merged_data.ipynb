{
 "cells": [
  {
   "cell_type": "code",
   "execution_count": 3,
   "id": "63034ea5-00ab-4f54-9e81-47b0f9294251",
   "metadata": {},
   "outputs": [
    {
     "name": "stdout",
     "output_type": "stream",
     "text": [
      "Yahoo columns: Index(['Price', 'Close', 'High', 'Low', 'Open', 'Volume'], dtype='object')\n"
     ]
    },
    {
     "name": "stderr",
     "output_type": "stream",
     "text": [
      "C:\\Users\\devin\\AppData\\Local\\Temp\\ipykernel_6452\\1170655749.py:25: UserWarning: Could not infer format, so each element will be parsed individually, falling back to `dateutil`. To ensure parsing is consistent and as-expected, please specify a format.\n",
      "  df_yf['Date'] = pd.to_datetime(df_yf['Date'], errors='coerce')\n"
     ]
    },
    {
     "name": "stdout",
     "output_type": "stream",
     "text": [
      "✅ Final dataset ready! Shape: (6191, 7)\n",
      "         Date       Close        High         Low        Open  Volume  \\\n",
      "0  2004-01-03  399.299988  396.399994  396.399994  396.399994     2.0   \n",
      "1  2004-01-04  427.799988  432.000000  424.500000  427.200012  1561.0   \n",
      "2  2004-01-06  394.600006  399.000000  393.299988  393.899994  1864.0   \n",
      "3  2004-01-07  396.000000  396.000000  396.000000  396.000000   146.0   \n",
      "4  2004-01-09  408.799988  407.299988  407.299988  407.299988     0.0   \n",
      "\n",
      "        Price  \n",
      "0  399.299988  \n",
      "1  427.799988  \n",
      "2  394.600006  \n",
      "3  396.000000  \n",
      "4  408.799988  \n"
     ]
    }
   ],
   "source": [
    "import pandas as pd\n",
    "\n",
    "# ----------------------------\n",
    "# Step 1: Load CSVs\n",
    "# ----------------------------\n",
    "df_yf = pd.read_csv(r\"C:\\Users\\devin\\Desktop\\ASSET ARBITRAGE\\Gold_Futures_2004_2025.csv\")\n",
    "df_kaggle = pd.read_csv(r\"C:\\Users\\devin\\Desktop\\ASSET ARBITRAGE\\gold_kaggle_cleaned.csv\")\n",
    "\n",
    "# ----------------------------\n",
    "# Step 2: Ensure Date column exists\n",
    "# ----------------------------\n",
    "# Check first column name\n",
    "print(\"Yahoo columns:\", df_yf.columns)\n",
    "\n",
    "# Agar first column Date nahi hai, use rename\n",
    "if df_yf.columns[0].lower() not in ['date']:\n",
    "    df_yf.rename(columns={df_yf.columns[0]: 'Date'}, inplace=True)\n",
    "\n",
    "# Remove duplicate columns if any\n",
    "df_yf = df_yf.loc[:, ~df_yf.columns.duplicated()]\n",
    "\n",
    "# ----------------------------\n",
    "# Step 3: Convert Date to datetime\n",
    "# ----------------------------\n",
    "df_yf['Date'] = pd.to_datetime(df_yf['Date'], errors='coerce')\n",
    "df_kaggle['Date'] = pd.to_datetime(df_kaggle['Date'], errors='coerce')\n",
    "\n",
    "# Drop rows with invalid dates\n",
    "df_yf = df_yf.dropna(subset=['Date'])\n",
    "df_kaggle = df_kaggle.dropna(subset=['Date'])\n",
    "\n",
    "# ----------------------------\n",
    "# Step 4: Numeric columns fix\n",
    "# ----------------------------\n",
    "for col in ['Close','High','Low','Open','Volume']:\n",
    "    if col in df_yf.columns:\n",
    "        df_yf[col] = pd.to_numeric(df_yf[col], errors='coerce')\n",
    "\n",
    "# Fill Price column from Close if Price not exist\n",
    "if 'Price' not in df_yf.columns or df_yf['Price'].isnull().all():\n",
    "    df_yf['Price'] = df_yf['Close']\n",
    "\n",
    "# ----------------------------\n",
    "# Step 5: Merge datasets\n",
    "# ----------------------------\n",
    "final = pd.concat([df_yf, df_kaggle]) \\\n",
    "          .drop_duplicates(subset=['Date']) \\\n",
    "          .sort_values('Date') \\\n",
    "          .reset_index(drop=True)\n",
    "\n",
    "# Keep only date part\n",
    "final['Date'] = final['Date'].dt.date\n",
    "\n",
    "# ----------------------------\n",
    "# Step 6: Save final CSV\n",
    "# ----------------------------\n",
    "final.to_csv(r\"C:\\Users\\devin\\Desktop\\ASSET ARBITRAGE\\final_gold_dataset.csv\", index=False)\n",
    "\n",
    "print(\"✅ Final dataset ready! Shape:\", final.shape)\n",
    "print(final.head())\n"
   ]
  },
  {
   "cell_type": "code",
   "execution_count": null,
   "id": "f3e7dfc4-74bf-48b8-8e50-f4f3e521e586",
   "metadata": {},
   "outputs": [],
   "source": []
  }
 ],
 "metadata": {
  "kernelspec": {
   "display_name": "Python [conda env:base] *",
   "language": "python",
   "name": "conda-base-py"
  },
  "language_info": {
   "codemirror_mode": {
    "name": "ipython",
    "version": 3
   },
   "file_extension": ".py",
   "mimetype": "text/x-python",
   "name": "python",
   "nbconvert_exporter": "python",
   "pygments_lexer": "ipython3",
   "version": "3.13.5"
  }
 },
 "nbformat": 4,
 "nbformat_minor": 5
}
