{
 "cells": [
  {
   "cell_type": "code",
   "execution_count": 27,
   "id": "ddf51a43-7df0-47ba-a27b-6d605875994d",
   "metadata": {},
   "outputs": [
    {
     "name": "stderr",
     "output_type": "stream",
     "text": [
      "[*********************100%***********************]  1 of 1 completed"
     ]
    },
    {
     "name": "stdout",
     "output_type": "stream",
     "text": [
      "Data saved at: C:\\Users\\devin\\Desktop\\ASSET ARBITRAGE\\Gold_Futures_2004_2025.csv\n"
     ]
    },
    {
     "name": "stderr",
     "output_type": "stream",
     "text": [
      "\n"
     ]
    }
   ],
   "source": [
    "import yfinance as yf\n",
    "import pandas as pd\n",
    "from datetime import datetime\n",
    "\n",
    "# Define ticker and date range\n",
    "ticker = \"GC=F\"  # Gold Futures\n",
    "start_date = \"2004-01-01\"\n",
    "end_date = datetime.today().strftime('%Y-%m-%d')\n",
    "\n",
    "# Download data\n",
    "data = yf.download(ticker, start=start_date, end=end_date, auto_adjust=True)\n",
    "\n",
    "# Save to your folder\n",
    "save_path = r\"C:\\Users\\devin\\Desktop\\ASSET ARBITRAGE\\Gold_Futures_2004_2025.csv\"\n",
    "data.to_csv(save_path)\n",
    "\n",
    "print(f\"Data saved at: {save_path}\")"
   ]
  },
  {
   "cell_type": "code",
   "execution_count": null,
   "id": "8f987636-2893-47c0-92cf-af8e94b1d28e",
   "metadata": {},
   "outputs": [],
   "source": []
  },
  {
   "cell_type": "code",
   "execution_count": null,
   "id": "c236ea26-131a-4244-8f09-56bba5a519e8",
   "metadata": {},
   "outputs": [],
   "source": []
  }
 ],
 "metadata": {
  "kernelspec": {
   "display_name": "Python [conda env:base] *",
   "language": "python",
   "name": "conda-base-py"
  },
  "language_info": {
   "codemirror_mode": {
    "name": "ipython",
    "version": 3
   },
   "file_extension": ".py",
   "mimetype": "text/x-python",
   "name": "python",
   "nbconvert_exporter": "python",
   "pygments_lexer": "ipython3",
   "version": "3.13.5"
  }
 },
 "nbformat": 4,
 "nbformat_minor": 5
}
