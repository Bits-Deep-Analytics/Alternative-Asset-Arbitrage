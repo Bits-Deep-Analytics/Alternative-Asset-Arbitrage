{
 "cells": [
  {
   "cell_type": "code",
   "execution_count": 3,
   "id": "2b4b6dd3-8b32-4ef4-bc6f-2ea75fcd50f4",
   "metadata": {},
   "outputs": [],
   "source": [
    "import pandas as pd\n",
    "import matplotlib.pyplot as plt\n",
    "import seaborn as sns"
   ]
  },
  {
   "cell_type": "code",
   "execution_count": 5,
   "id": "44c9bfd5-a706-4408-88db-cc3ac2902b8f",
   "metadata": {},
   "outputs": [
    {
     "data": {
      "text/html": [
       "<div>\n",
       "<style scoped>\n",
       "    .dataframe tbody tr th:only-of-type {\n",
       "        vertical-align: middle;\n",
       "    }\n",
       "\n",
       "    .dataframe tbody tr th {\n",
       "        vertical-align: top;\n",
       "    }\n",
       "\n",
       "    .dataframe thead th {\n",
       "        text-align: right;\n",
       "    }\n",
       "</style>\n",
       "<table border=\"1\" class=\"dataframe\">\n",
       "  <thead>\n",
       "    <tr style=\"text-align: right;\">\n",
       "      <th></th>\n",
       "      <th>Date</th>\n",
       "      <th>Open</th>\n",
       "      <th>High</th>\n",
       "      <th>Low</th>\n",
       "      <th>Close</th>\n",
       "      <th>Volume</th>\n",
       "    </tr>\n",
       "  </thead>\n",
       "  <tbody>\n",
       "    <tr>\n",
       "      <th>5386</th>\n",
       "      <td>2025.06.02 00:00</td>\n",
       "      <td>3298.76</td>\n",
       "      <td>3382.86</td>\n",
       "      <td>3295.75</td>\n",
       "      <td>3380.64</td>\n",
       "      <td>461738</td>\n",
       "    </tr>\n",
       "    <tr>\n",
       "      <th>5387</th>\n",
       "      <td>2025.06.03 00:00</td>\n",
       "      <td>3383.51</td>\n",
       "      <td>3392.19</td>\n",
       "      <td>3333.08</td>\n",
       "      <td>3352.91</td>\n",
       "      <td>436080</td>\n",
       "    </tr>\n",
       "    <tr>\n",
       "      <th>5388</th>\n",
       "      <td>2025.06.04 00:00</td>\n",
       "      <td>3353.93</td>\n",
       "      <td>3384.64</td>\n",
       "      <td>3343.67</td>\n",
       "      <td>3372.25</td>\n",
       "      <td>420245</td>\n",
       "    </tr>\n",
       "    <tr>\n",
       "      <th>5389</th>\n",
       "      <td>2025.06.05 00:00</td>\n",
       "      <td>3373.34</td>\n",
       "      <td>3403.42</td>\n",
       "      <td>3339.43</td>\n",
       "      <td>3351.98</td>\n",
       "      <td>808095</td>\n",
       "    </tr>\n",
       "    <tr>\n",
       "      <th>5390</th>\n",
       "      <td>2025.06.06 00:00</td>\n",
       "      <td>3353.55</td>\n",
       "      <td>3369.26</td>\n",
       "      <td>3353.00</td>\n",
       "      <td>3368.94</td>\n",
       "      <td>120857</td>\n",
       "    </tr>\n",
       "  </tbody>\n",
       "</table>\n",
       "</div>"
      ],
      "text/plain": [
       "                  Date     Open     High      Low    Close  Volume\n",
       "5386  2025.06.02 00:00  3298.76  3382.86  3295.75  3380.64  461738\n",
       "5387  2025.06.03 00:00  3383.51  3392.19  3333.08  3352.91  436080\n",
       "5388  2025.06.04 00:00  3353.93  3384.64  3343.67  3372.25  420245\n",
       "5389  2025.06.05 00:00  3373.34  3403.42  3339.43  3351.98  808095\n",
       "5390  2025.06.06 00:00  3353.55  3369.26  3353.00  3368.94  120857"
      ]
     },
     "execution_count": 5,
     "metadata": {},
     "output_type": "execute_result"
    }
   ],
   "source": [
    "df = pd.read_csv(r\"C:\\Users\\devin\\Desktop\\ASSET ARBITRAGE\\XAU_1d_data.csv\", sep=',')\n",
    "df.head()\n",
    "df.tail()"
   ]
  },
  {
   "cell_type": "code",
   "execution_count": 7,
   "id": "ad6f4c95-414e-4934-a311-09437d9cb281",
   "metadata": {},
   "outputs": [
    {
     "name": "stdout",
     "output_type": "stream",
     "text": [
      "<class 'pandas.core.frame.DataFrame'>\n",
      "RangeIndex: 5391 entries, 0 to 5390\n",
      "Data columns (total 6 columns):\n",
      " #   Column  Non-Null Count  Dtype         \n",
      "---  ------  --------------  -----         \n",
      " 0   Date    5391 non-null   datetime64[ns]\n",
      " 1   Open    5391 non-null   float64       \n",
      " 2   High    5391 non-null   float64       \n",
      " 3   Low     5391 non-null   float64       \n",
      " 4   Close   5391 non-null   float64       \n",
      " 5   Volume  5391 non-null   int64         \n",
      "dtypes: datetime64[ns](1), float64(4), int64(1)\n",
      "memory usage: 252.8 KB\n"
     ]
    }
   ],
   "source": [
    "df['Date'] = pd.to_datetime(df['Date'], format=\"%Y.%m.%d %H:%M\")\n",
    "df.info()"
   ]
  },
  {
   "cell_type": "code",
   "execution_count": 8,
   "id": "18e946f2-f2ab-47a4-9083-311f5b92d226",
   "metadata": {},
   "outputs": [
    {
     "data": {
      "text/plain": [
       "0      2004-06-11\n",
       "1      2004-06-14\n",
       "2      2004-06-15\n",
       "3      2004-06-16\n",
       "4      2004-06-17\n",
       "          ...    \n",
       "5386   2025-06-02\n",
       "5387   2025-06-03\n",
       "5388   2025-06-04\n",
       "5389   2025-06-05\n",
       "5390   2025-06-06\n",
       "Name: Date, Length: 5391, dtype: datetime64[ns]"
      ]
     },
     "execution_count": 8,
     "metadata": {},
     "output_type": "execute_result"
    }
   ],
   "source": [
    "df['Date']"
   ]
  },
  {
   "cell_type": "code",
   "execution_count": 11,
   "id": "7cfe7c28-77fe-4235-9d66-4a62b1d48196",
   "metadata": {},
   "outputs": [
    {
     "name": "stdout",
     "output_type": "stream",
     "text": [
      "['Date', 'Open', 'High', 'Low', 'Close', 'Volume']\n"
     ]
    }
   ],
   "source": [
    "# See all columns exactly as they appear\n",
    "print(df.columns.tolist())\n"
   ]
  },
  {
   "cell_type": "code",
   "execution_count": 16,
   "id": "27cdd7ee-6e76-47c7-bf21-b2aafeb8c07d",
   "metadata": {},
   "outputs": [
    {
     "data": {
      "text/html": [
       "<div>\n",
       "<style scoped>\n",
       "    .dataframe tbody tr th:only-of-type {\n",
       "        vertical-align: middle;\n",
       "    }\n",
       "\n",
       "    .dataframe tbody tr th {\n",
       "        vertical-align: top;\n",
       "    }\n",
       "\n",
       "    .dataframe thead th {\n",
       "        text-align: right;\n",
       "    }\n",
       "</style>\n",
       "<table border=\"1\" class=\"dataframe\">\n",
       "  <thead>\n",
       "    <tr style=\"text-align: right;\">\n",
       "      <th></th>\n",
       "      <th>Date</th>\n",
       "      <th>Open</th>\n",
       "      <th>High</th>\n",
       "      <th>Low</th>\n",
       "      <th>Close</th>\n",
       "      <th>Volume</th>\n",
       "    </tr>\n",
       "  </thead>\n",
       "  <tbody>\n",
       "    <tr>\n",
       "      <th>0</th>\n",
       "      <td>2004-06-11</td>\n",
       "      <td>384.0</td>\n",
       "      <td>384.8</td>\n",
       "      <td>382.8</td>\n",
       "      <td>384.1</td>\n",
       "      <td>272.0</td>\n",
       "    </tr>\n",
       "    <tr>\n",
       "      <th>1</th>\n",
       "      <td>2004-06-14</td>\n",
       "      <td>384.3</td>\n",
       "      <td>385.8</td>\n",
       "      <td>381.8</td>\n",
       "      <td>382.8</td>\n",
       "      <td>1902.0</td>\n",
       "    </tr>\n",
       "    <tr>\n",
       "      <th>2</th>\n",
       "      <td>2004-06-15</td>\n",
       "      <td>382.8</td>\n",
       "      <td>388.8</td>\n",
       "      <td>381.1</td>\n",
       "      <td>388.6</td>\n",
       "      <td>1951.0</td>\n",
       "    </tr>\n",
       "    <tr>\n",
       "      <th>3</th>\n",
       "      <td>2004-06-16</td>\n",
       "      <td>387.1</td>\n",
       "      <td>389.8</td>\n",
       "      <td>382.6</td>\n",
       "      <td>383.8</td>\n",
       "      <td>2014.0</td>\n",
       "    </tr>\n",
       "    <tr>\n",
       "      <th>4</th>\n",
       "      <td>2004-06-17</td>\n",
       "      <td>383.6</td>\n",
       "      <td>389.3</td>\n",
       "      <td>383.0</td>\n",
       "      <td>387.6</td>\n",
       "      <td>1568.0</td>\n",
       "    </tr>\n",
       "  </tbody>\n",
       "</table>\n",
       "</div>"
      ],
      "text/plain": [
       "        Date   Open   High    Low  Close  Volume\n",
       "0 2004-06-11  384.0  384.8  382.8  384.1   272.0\n",
       "1 2004-06-14  384.3  385.8  381.8  382.8  1902.0\n",
       "2 2004-06-15  382.8  388.8  381.1  388.6  1951.0\n",
       "3 2004-06-16  387.1  389.8  382.6  383.8  2014.0\n",
       "4 2004-06-17  383.6  389.3  383.0  387.6  1568.0"
      ]
     },
     "execution_count": 16,
     "metadata": {},
     "output_type": "execute_result"
    }
   ],
   "source": [
    "numeric_cols = ['Open', 'High', 'Low', 'Close', 'Volume']\n",
    "for col in numeric_cols:\n",
    "    df[col] = pd.to_numeric(df[col].astype(str).str.replace(',', ''), errors='coerce')\n",
    "df['Volume'] = df['Volume'].astype(float)\n",
    "df.head()"
   ]
  },
  {
   "cell_type": "code",
   "execution_count": 19,
   "id": "324184c2-b88a-4875-8526-35507f9d3da4",
   "metadata": {},
   "outputs": [
    {
     "data": {
      "text/plain": [
       "Date      datetime64[ns]\n",
       "Open             float64\n",
       "High             float64\n",
       "Low              float64\n",
       "Close            float64\n",
       "Volume           float64\n",
       "dtype: object"
      ]
     },
     "execution_count": 19,
     "metadata": {},
     "output_type": "execute_result"
    }
   ],
   "source": [
    "df.dtypes"
   ]
  },
  {
   "cell_type": "code",
   "execution_count": 20,
   "id": "a3a691eb-9e8c-47fd-97fa-26fb0d027e39",
   "metadata": {},
   "outputs": [
    {
     "data": {
      "text/html": [
       "<div>\n",
       "<style scoped>\n",
       "    .dataframe tbody tr th:only-of-type {\n",
       "        vertical-align: middle;\n",
       "    }\n",
       "\n",
       "    .dataframe tbody tr th {\n",
       "        vertical-align: top;\n",
       "    }\n",
       "\n",
       "    .dataframe thead th {\n",
       "        text-align: right;\n",
       "    }\n",
       "</style>\n",
       "<table border=\"1\" class=\"dataframe\">\n",
       "  <thead>\n",
       "    <tr style=\"text-align: right;\">\n",
       "      <th></th>\n",
       "      <th>Date</th>\n",
       "      <th>Open</th>\n",
       "      <th>High</th>\n",
       "      <th>Low</th>\n",
       "      <th>Close</th>\n",
       "      <th>Volume</th>\n",
       "    </tr>\n",
       "  </thead>\n",
       "  <tbody>\n",
       "    <tr>\n",
       "      <th>count</th>\n",
       "      <td>5391</td>\n",
       "      <td>5391.000000</td>\n",
       "      <td>5391.000000</td>\n",
       "      <td>5391.000000</td>\n",
       "      <td>5391.000000</td>\n",
       "      <td>5.391000e+03</td>\n",
       "    </tr>\n",
       "    <tr>\n",
       "      <th>mean</th>\n",
       "      <td>2014-12-21 05:40:02.003339008</td>\n",
       "      <td>1351.249024</td>\n",
       "      <td>1361.248208</td>\n",
       "      <td>1341.127752</td>\n",
       "      <td>1351.567527</td>\n",
       "      <td>8.707645e+04</td>\n",
       "    </tr>\n",
       "    <tr>\n",
       "      <th>min</th>\n",
       "      <td>2004-06-11 00:00:00</td>\n",
       "      <td>382.800000</td>\n",
       "      <td>384.800000</td>\n",
       "      <td>381.100000</td>\n",
       "      <td>382.800000</td>\n",
       "      <td>2.000000e+00</td>\n",
       "    </tr>\n",
       "    <tr>\n",
       "      <th>25%</th>\n",
       "      <td>2009-09-26 12:00:00</td>\n",
       "      <td>1008.135000</td>\n",
       "      <td>1018.045000</td>\n",
       "      <td>999.275000</td>\n",
       "      <td>1007.215000</td>\n",
       "      <td>2.487950e+04</td>\n",
       "    </tr>\n",
       "    <tr>\n",
       "      <th>50%</th>\n",
       "      <td>2014-12-24 00:00:00</td>\n",
       "      <td>1292.420000</td>\n",
       "      <td>1299.500000</td>\n",
       "      <td>1285.410000</td>\n",
       "      <td>1292.480000</td>\n",
       "      <td>7.173500e+04</td>\n",
       "    </tr>\n",
       "    <tr>\n",
       "      <th>75%</th>\n",
       "      <td>2020-03-17 12:00:00</td>\n",
       "      <td>1723.255000</td>\n",
       "      <td>1735.060000</td>\n",
       "      <td>1708.605000</td>\n",
       "      <td>1724.460000</td>\n",
       "      <td>1.153610e+05</td>\n",
       "    </tr>\n",
       "    <tr>\n",
       "      <th>max</th>\n",
       "      <td>2025-06-06 00:00:00</td>\n",
       "      <td>3435.210000</td>\n",
       "      <td>3499.940000</td>\n",
       "      <td>3366.730000</td>\n",
       "      <td>3431.480000</td>\n",
       "      <td>1.719636e+06</td>\n",
       "    </tr>\n",
       "    <tr>\n",
       "      <th>std</th>\n",
       "      <td>NaN</td>\n",
       "      <td>548.743404</td>\n",
       "      <td>552.815301</td>\n",
       "      <td>545.007579</td>\n",
       "      <td>549.292651</td>\n",
       "      <td>1.073524e+05</td>\n",
       "    </tr>\n",
       "  </tbody>\n",
       "</table>\n",
       "</div>"
      ],
      "text/plain": [
       "                                Date         Open         High          Low  \\\n",
       "count                           5391  5391.000000  5391.000000  5391.000000   \n",
       "mean   2014-12-21 05:40:02.003339008  1351.249024  1361.248208  1341.127752   \n",
       "min              2004-06-11 00:00:00   382.800000   384.800000   381.100000   \n",
       "25%              2009-09-26 12:00:00  1008.135000  1018.045000   999.275000   \n",
       "50%              2014-12-24 00:00:00  1292.420000  1299.500000  1285.410000   \n",
       "75%              2020-03-17 12:00:00  1723.255000  1735.060000  1708.605000   \n",
       "max              2025-06-06 00:00:00  3435.210000  3499.940000  3366.730000   \n",
       "std                              NaN   548.743404   552.815301   545.007579   \n",
       "\n",
       "             Close        Volume  \n",
       "count  5391.000000  5.391000e+03  \n",
       "mean   1351.567527  8.707645e+04  \n",
       "min     382.800000  2.000000e+00  \n",
       "25%    1007.215000  2.487950e+04  \n",
       "50%    1292.480000  7.173500e+04  \n",
       "75%    1724.460000  1.153610e+05  \n",
       "max    3431.480000  1.719636e+06  \n",
       "std     549.292651  1.073524e+05  "
      ]
     },
     "execution_count": 20,
     "metadata": {},
     "output_type": "execute_result"
    }
   ],
   "source": [
    "df.describe()"
   ]
  },
  {
   "cell_type": "code",
   "execution_count": 21,
   "id": "d929dc91-9162-444e-9489-1a4f29c756a5",
   "metadata": {},
   "outputs": [
    {
     "data": {
      "image/png": "[encoded data removed]",
      "text/plain": [
       "<Figure size 1200x500 with 1 Axes>"
      ]
     },
     "metadata": {},
     "output_type": "display_data"
    }
   ],
   "source": [
    "plt.figure(figsize=(12,5))\n",
    "sns.lineplot(data=df, x='Date', y='Close')\n",
    "plt.title(\"Gold Price Trend (Kaggle Dataset)\")\n",
    "plt.xlabel(\"Date\")\n",
    "plt.ylabel(\"Price (USD)\")\n",
    "plt.show()"
   ]
  },
  {
   "cell_type": "code",
   "execution_count": 22,
   "id": "f79e450d-9d06-4760-adb1-7be967dbbd5d",
   "metadata": {},
   "outputs": [
    {
     "name": "stdout",
     "output_type": "stream",
     "text": [
      "✅ Kaggle dataset cleaned and saved\n"
     ]
    }
   ],
   "source": [
    "df.to_csv(\"gold_kaggle_cleaned.csv\", index=False)\n",
    "print(\"✅ Kaggle dataset cleaned and saved\")"
   ]
  },
  {
   "cell_type": "code",
   "execution_count": 23,
   "id": "44ff583e-5259-4fd4-8e1f-793c5685bfb3",
   "metadata": {},
   "outputs": [
    {
     "name": "stdout",
     "output_type": "stream",
     "text": [
      "C:\\Users\\devin\n"
     ]
    }
   ],
   "source": [
    "import os\n",
    "print(os.getcwd())"
   ]
  },
  {
   "cell_type": "code",
   "execution_count": 24,
   "id": "6f5cb243-adb8-479f-8830-57f6672172a1",
   "metadata": {},
   "outputs": [
    {
     "name": "stdout",
     "output_type": "stream",
     "text": [
      "✅ Dataset saved to Desktop\n"
     ]
    }
   ],
   "source": [
    "# Example: save to Desktop\n",
    "df.to_csv(r\"C:\\Users\\devin\\Desktop\\ASSET ARBITRAGE\\gold_kaggle_cleaned.csv\", index=False)\n",
    "print(\"✅ Dataset saved to Desktop\")"
   ]
  },
  {
   "cell_type": "code",
   "execution_count": null,
   "id": "cc92030a-5cfb-49ec-b1fa-c563552e0248",
   "metadata": {},
   "outputs": [],
   "source": []
  }
 ],
 "metadata": {
  "kernelspec": {
   "display_name": "Python [conda env:base] *",
   "language": "python",
   "name": "conda-base-py"
  },
  "language_info": {
   "codemirror_mode": {
    "name": "ipython",
    "version": 3
   },
   "file_extension": ".py",
   "mimetype": "text/x-python",
   "name": "python",
   "nbconvert_exporter": "python",
   "pygments_lexer": "ipython3",
   "version": "3.13.5"
  }
 },
 "nbformat": 4,
 "nbformat_minor": 5
}
