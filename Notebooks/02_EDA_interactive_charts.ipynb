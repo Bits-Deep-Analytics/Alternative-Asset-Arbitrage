{
 "cells": [
  {
   "cell_type": "code",
   "execution_count": 1,
   "id": "7cb368f0",
   "metadata": {},
   "outputs": [],
   "source": [
    "import pandas as pd\n",
    "import plotly.graph_objects as go\n",
    "from ipywidgets import interact, widgets ,  IntRangeSlider , IntSlider , FloatSlider\n",
    "import numpy as np\n",
    "from scipy.stats import gaussian_kde"
   ]
  },
  {
   "cell_type": "code",
   "execution_count": 2,
   "id": "9674a51b-94c8-45ad-bb3e-76a1bd217029",
   "metadata": {},
   "outputs": [
    {
     "name": "stdout",
     "output_type": "stream",
     "text": [
      "<class 'pandas.core.frame.DataFrame'>\n",
      "RangeIndex: 6191 entries, 0 to 6190\n",
      "Data columns (total 11 columns):\n",
      " #   Column          Non-Null Count  Dtype  \n",
      "---  ------          --------------  -----  \n",
      " 0   Date            6191 non-null   object \n",
      " 1   Close           6191 non-null   float64\n",
      " 2   High            6191 non-null   float64\n",
      " 3   Low             6191 non-null   float64\n",
      " 4   Open            6191 non-null   float64\n",
      " 5   Volume          6191 non-null   float64\n",
      " 6   Price           6191 non-null   float64\n",
      " 7   Returns         6191 non-null   float64\n",
      " 8   Price_scaled    6191 non-null   float64\n",
      " 9   Volume_scaled   6191 non-null   float64\n",
      " 10  Returns_scaled  6191 non-null   float64\n",
      "dtypes: float64(10), object(1)\n",
      "memory usage: 532.2+ KB\n"
     ]
    }
   ],
   "source": [
    "df = pd.read_csv(r'C:\\Users\\devin\\Desktop\\ASSET ARBITRAGE\\final_dataset_preprocessed.csv')\n",
    "df.info()"
   ]
  },
  {
   "cell_type": "code",
   "execution_count": 3,
   "id": "41b68992-3ddd-460e-ab6d-3c07e026f7f5",
   "metadata": {},
   "outputs": [
    {
     "data": {
      "text/html": [
       "<div>\n",
       "<style scoped>\n",
       "    .dataframe tbody tr th:only-of-type {\n",
       "        vertical-align: middle;\n",
       "    }\n",
       "\n",
       "    .dataframe tbody tr th {\n",
       "        vertical-align: top;\n",
       "    }\n",
       "\n",
       "    .dataframe thead th {\n",
       "        text-align: right;\n",
       "    }\n",
       "</style>\n",
       "<table border=\"1\" class=\"dataframe\">\n",
       "  <thead>\n",
       "    <tr style=\"text-align: right;\">\n",
       "      <th></th>\n",
       "      <th>Close</th>\n",
       "      <th>High</th>\n",
       "      <th>Low</th>\n",
       "      <th>Open</th>\n",
       "      <th>Volume</th>\n",
       "      <th>Price</th>\n",
       "      <th>Returns</th>\n",
       "      <th>Price_scaled</th>\n",
       "      <th>Volume_scaled</th>\n",
       "      <th>Returns_scaled</th>\n",
       "    </tr>\n",
       "  </thead>\n",
       "  <tbody>\n",
       "    <tr>\n",
       "      <th>count</th>\n",
       "      <td>6191.000000</td>\n",
       "      <td>6191.000000</td>\n",
       "      <td>6191.000000</td>\n",
       "      <td>6191.000000</td>\n",
       "      <td>6.191000e+03</td>\n",
       "      <td>6191.000000</td>\n",
       "      <td>6191.000000</td>\n",
       "      <td>6.191000e+03</td>\n",
       "      <td>6.191000e+03</td>\n",
       "      <td>6.191000e+03</td>\n",
       "    </tr>\n",
       "    <tr>\n",
       "      <th>mean</th>\n",
       "      <td>1362.245404</td>\n",
       "      <td>1369.522903</td>\n",
       "      <td>1354.601257</td>\n",
       "      <td>1362.148236</td>\n",
       "      <td>1.483006e+04</td>\n",
       "      <td>1362.955144</td>\n",
       "      <td>0.001008</td>\n",
       "      <td>-1.101795e-16</td>\n",
       "      <td>2.754486e-17</td>\n",
       "      <td>2.295405e-17</td>\n",
       "    </tr>\n",
       "    <tr>\n",
       "      <th>std</th>\n",
       "      <td>605.920265</td>\n",
       "      <td>609.191935</td>\n",
       "      <td>601.995322</td>\n",
       "      <td>605.395010</td>\n",
       "      <td>5.595973e+04</td>\n",
       "      <td>608.975675</td>\n",
       "      <td>0.019006</td>\n",
       "      <td>1.000081e+00</td>\n",
       "      <td>1.000081e+00</td>\n",
       "      <td>1.000081e+00</td>\n",
       "    </tr>\n",
       "    <tr>\n",
       "      <th>min</th>\n",
       "      <td>374.799988</td>\n",
       "      <td>375.799988</td>\n",
       "      <td>375.799988</td>\n",
       "      <td>375.799988</td>\n",
       "      <td>0.000000e+00</td>\n",
       "      <td>374.799988</td>\n",
       "      <td>-0.032866</td>\n",
       "      <td>-1.622782e+00</td>\n",
       "      <td>-2.650345e-01</td>\n",
       "      <td>-1.782410e+00</td>\n",
       "    </tr>\n",
       "    <tr>\n",
       "      <th>25%</th>\n",
       "      <td>956.799988</td>\n",
       "      <td>962.145006</td>\n",
       "      <td>951.265012</td>\n",
       "      <td>956.299988</td>\n",
       "      <td>4.300000e+01</td>\n",
       "      <td>957.750000</td>\n",
       "      <td>-0.007456</td>\n",
       "      <td>-6.654418e-01</td>\n",
       "      <td>-2.642661e-01</td>\n",
       "      <td>-4.453611e-01</td>\n",
       "    </tr>\n",
       "    <tr>\n",
       "      <th>50%</th>\n",
       "      <td>1291.490000</td>\n",
       "      <td>1295.900024</td>\n",
       "      <td>1285.699951</td>\n",
       "      <td>1291.599976</td>\n",
       "      <td>1.890000e+02</td>\n",
       "      <td>1290.800049</td>\n",
       "      <td>0.000000</td>\n",
       "      <td>-1.184956e-01</td>\n",
       "      <td>-2.616568e-01</td>\n",
       "      <td>-5.302549e-02</td>\n",
       "    </tr>\n",
       "    <tr>\n",
       "      <th>75%</th>\n",
       "      <td>1729.549988</td>\n",
       "      <td>1739.400024</td>\n",
       "      <td>1721.350036</td>\n",
       "      <td>1730.599976</td>\n",
       "      <td>9.060000e+02</td>\n",
       "      <td>1728.850036</td>\n",
       "      <td>0.009484</td>\n",
       "      <td>6.008852e-01</td>\n",
       "      <td>-2.488430e-01</td>\n",
       "      <td>4.460051e-01</td>\n",
       "    </tr>\n",
       "    <tr>\n",
       "      <th>max</th>\n",
       "      <td>3820.899902</td>\n",
       "      <td>3827.600098</td>\n",
       "      <td>3775.300049</td>\n",
       "      <td>3775.300049</td>\n",
       "      <td>1.236670e+06</td>\n",
       "      <td>3820.899902</td>\n",
       "      <td>0.034894</td>\n",
       "      <td>4.036521e+00</td>\n",
       "      <td>2.183603e+01</td>\n",
       "      <td>1.783054e+00</td>\n",
       "    </tr>\n",
       "  </tbody>\n",
       "</table>\n",
       "</div>"
      ],
      "text/plain": [
       "             Close         High          Low         Open        Volume  \\\n",
       "count  6191.000000  6191.000000  6191.000000  6191.000000  6.191000e+03   \n",
       "mean   1362.245404  1369.522903  1354.601257  1362.148236  1.483006e+04   \n",
       "std     605.920265   609.191935   601.995322   605.395010  5.595973e+04   \n",
       "min     374.799988   375.799988   375.799988   375.799988  0.000000e+00   \n",
       "25%     956.799988   962.145006   951.265012   956.299988  4.300000e+01   \n",
       "50%    1291.490000  1295.900024  1285.699951  1291.599976  1.890000e+02   \n",
       "75%    1729.549988  1739.400024  1721.350036  1730.599976  9.060000e+02   \n",
       "max    3820.899902  3827.600098  3775.300049  3775.300049  1.236670e+06   \n",
       "\n",
       "             Price      Returns  Price_scaled  Volume_scaled  Returns_scaled  \n",
       "count  6191.000000  6191.000000  6.191000e+03   6.191000e+03    6.191000e+03  \n",
       "mean   1362.955144     0.001008 -1.101795e-16   2.754486e-17    2.295405e-17  \n",
       "std     608.975675     0.019006  1.000081e+00   1.000081e+00    1.000081e+00  \n",
       "min     374.799988    -0.032866 -1.622782e+00  -2.650345e-01   -1.782410e+00  \n",
       "25%     957.750000    -0.007456 -6.654418e-01  -2.642661e-01   -4.453611e-01  \n",
       "50%    1290.800049     0.000000 -1.184956e-01  -2.616568e-01   -5.302549e-02  \n",
       "75%    1728.850036     0.009484  6.008852e-01  -2.488430e-01    4.460051e-01  \n",
       "max    3820.899902     0.034894  4.036521e+00   2.183603e+01    1.783054e+00  "
      ]
     },
     "execution_count": 3,
     "metadata": {},
     "output_type": "execute_result"
    }
   ],
   "source": [
    "df.describe()"
   ]
  },
  {
   "cell_type": "code",
   "execution_count": 4,
   "id": "eed25bf1-74ed-47db-822d-5836176c1313",
   "metadata": {},
   "outputs": [],
   "source": [
    "# Make sure Date is datetime\n",
    "df['Date'] = pd.to_datetime(df['Date'])"
   ]
  },
  {
   "cell_type": "markdown",
   "id": "93eddec9-cb3a-4d71-8ee5-3762327cebc1",
   "metadata": {},
   "source": [
    "## Insight 1 — Overall Gold Price Trend\n",
    "Line plot of price over time and percentage growth from first to last observation."
   ]
  },
  {
   "cell_type": "code",
   "execution_count": 5,
   "id": "df4a4486-42ab-4f7b-ba79-804998779a4e",
   "metadata": {
    "scrolled": true
   },
   "outputs": [
    {
     "data": {
      "application/vnd.jupyter.widget-view+json": {
       "model_id": "38e4898d547a4ce9bc5133d9c1072fef",
       "version_major": 2,
       "version_minor": 0
      },
      "text/plain": [
       "interactive(children=(DatePicker(value=Timestamp('2004-01-03 00:00:00'), description='Start Date', step=1), Da…"
      ]
     },
     "metadata": {},
     "output_type": "display_data"
    },
    {
     "data": {
      "text/plain": [
       "<function __main__.plot_gold_price(start_date, end_date)>"
      ]
     },
     "execution_count": 5,
     "metadata": {},
     "output_type": "execute_result"
    }
   ],
   "source": [
    "# Function to plot (without mask)\n",
    "def plot_gold_price(start_date, end_date):\n",
    "    # It selects the data within the range given in dataframe\n",
    "    filtered_df = df.loc[(df['Date'] >= pd.to_datetime(start_date)) & (df['Date'] <= pd.to_datetime(end_date))]\n",
    "    fig = go.Figure()\n",
    "    fig.add_trace(go.Scatter(x=filtered_df['Date'],y=filtered_df['Close'],mode='lines+markers',name='Gold Price',line=dict(color='blue')))\n",
    "    fig.update_layout(title='Gold Price Trend Over Time',xaxis_title='Date',yaxis_title='Price',template='plotly_white')\n",
    "    # Add growth annotation if data exists (Means it adds a arrow or a kind off label at the end to hows stats)\n",
    "    if not filtered_df.empty:\n",
    "        initial = filtered_df['Close'].iloc[0]\n",
    "        final = filtered_df['Close'].iloc[-1]\n",
    "        growth = ((final - initial) / initial) * 100\n",
    "        fig.add_annotation(x=filtered_df['Date'].iloc[-1],y=filtered_df['Close'].iloc[-1],text=f\"Initial: {initial:.2f}<br>Final: {final:.2f}<br>Growth: {growth:.2f}%\",showarrow=True,arrowhead=1,ax=-50,ay=-50)\n",
    "    fig.show()\n",
    "# Widgets for start and end date\n",
    "start_widget = widgets.DatePicker(description='Start Date',value=df['Date'].min(),)\n",
    "end_widget = widgets.DatePicker(description='End Date',value=df['Date'].max(),)\n",
    "# Interactive dashboard\n",
    "interact(plot_gold_price, start_date=start_widget, end_date=end_widget)"
   ]
  },
  {
   "cell_type": "markdown",
   "id": "2a57072f-99a7-4aff-bedb-d01493293a92",
   "metadata": {},
   "source": [
    "## Insight 2 — Yearly Average Price Trend\n",
    "Compute average price per year and plot to identify peak years."
   ]
  },
  {
   "cell_type": "code",
   "execution_count": 6,
   "id": "081cc295",
   "metadata": {},
   "outputs": [
    {
     "data": {
      "application/vnd.jupyter.widget-view+json": {
       "model_id": "87d0b26bfe994bc5a86772ebd37f015f",
       "version_major": 2,
       "version_minor": 0
      },
      "text/plain": [
       "interactive(children=(IntRangeSlider(value=(2004, 2025), description='Year Range:', max=2025, min=2004), Outpu…"
      ]
     },
     "metadata": {},
     "output_type": "display_data"
    },
    {
     "name": "stdout",
     "output_type": "stream",
     "text": [
      "Year with highest average price: 2025 (avg = 3210.69)\n"
     ]
    }
   ],
   "source": [
    "# Assuming df is already defined and has 'Date' and 'Price' columns\n",
    "df['Year'] = df['Date'].dt.year\n",
    "# groupby(\"year\") : this group price of a year , .mean() this calculate average of price per year , reset_index : this reset the index mean clean dataframe after calculating for particular year\n",
    "yearly_avg = df.groupby('Year')['Price'].mean().reset_index()\n",
    "# Function to update interactive chart\n",
    "def update_chart(year_range):\n",
    "    start, end = year_range\n",
    "    filtered = yearly_avg[(yearly_avg['Year'] >= start) & (yearly_avg['Year'] <= end)]\n",
    "    fig = go.Figure()\n",
    "    fig.add_trace(go.Scatter(x=filtered['Year'],y=filtered['Price'],mode='lines+markers',line=dict(width=2),marker=dict(size=8),name='Avg Gold Price'))\n",
    "    fig.update_layout(title=f'Average Gold Price Per Year ({start}-{end})',xaxis_title='Year',yaxis_title='Average Price',template='plotly_white',hovermode='x unified', width=900,height=450)\n",
    "    fig.show()\n",
    "# Interactive slider\n",
    "year_slider = IntRangeSlider(value=[yearly_avg['Year'].min(), yearly_avg['Year'].max()],min=yearly_avg['Year'].min(),max=yearly_avg['Year'].max(),step=1,description='Year Range:',continuous_update=True)\n",
    "# Link slider to chart\n",
    "interact(update_chart, year_range=year_slider)\n",
    "# Print top performing year\n",
    "top_year = yearly_avg.loc[yearly_avg['Price'].idxmax(), 'Year']\n",
    "top_price = yearly_avg['Price'].max()\n",
    "print(f\"Year with highest average price: {top_year} (avg = {top_price:.2f})\")"
   ]
  },
  {
   "cell_type": "markdown",
   "id": "aed1ee1e-bf23-42f3-8028-3b057eacb3a2",
   "metadata": {},
   "source": [
    "## Insight 3 - return distribution\n",
    "makes us understand how daily returns are distributed over time"
   ]
  },
  {
   "cell_type": "code",
   "execution_count": 7,
   "id": "d09a86bc-090d-478e-a3a0-b3a768e440eb",
   "metadata": {},
   "outputs": [
    {
     "data": {
      "application/vnd.jupyter.widget-view+json": {
       "model_id": "444352d4acf74130b8ebe7f3f200cff6",
       "version_major": 2,
       "version_minor": 0
      },
      "text/plain": [
       "interactive(children=(IntSlider(value=50, description='Bins:', min=10, step=5), Output()), _dom_classes=('widg…"
      ]
     },
     "metadata": {},
     "output_type": "display_data"
    },
    {
     "data": {
      "text/plain": [
       "<function __main__.update_histogram(bins)>"
      ]
     },
     "execution_count": 7,
     "metadata": {},
     "output_type": "execute_result"
    }
   ],
   "source": [
    "# Drop NaNs bcuz that will cause zero bin error\n",
    "df = df.dropna(subset=[\"Returns\"])\n",
    "# Compute mean\n",
    "mean_val = df[\"Returns\"].mean()\n",
    "# Function to update histogram interactively\n",
    "def update_histogram(bins):\n",
    "    fig = go.Figure()\n",
    "    fig.add_trace(go.Histogram(x=df[\"Returns\"],nbinsx=bins, marker_color='blue',opacity=0.7,name='Returns Distribution'))\n",
    "\n",
    "    # Density curve\n",
    "    density = gaussian_kde(df[\"Returns\"])\n",
    "    x_vals = np.linspace(df[\"Returns\"].min(), df[\"Returns\"].max(), 200)\n",
    "    fig.add_trace(go.Scatter(x=x_vals,y=density(x_vals)*len(df[\"Returns\"])*np.diff(np.histogram(df[\"Returns\"], bins=bins)[1])[0],mode='lines',line=dict(color='purple', width=2),name='Density'))\n",
    "    fig.add_vline(x=mean_val,line=dict(color='red', dash='dash'),annotation_text=f\"Mean: {mean_val:.4f}\",annotation_position=\"top left\")\n",
    "    fig.update_layout(title=f\"Distribution of Daily Returns (Bins: {bins})\",xaxis_title=\"Daily Returns\",yaxis_title=\"Frequency\",template=\"plotly_white\",width=900,height=450,legend=dict(orientation='h', yanchor='bottom', y=1.02, xanchor='right', x=1))\n",
    "    fig.show()\n",
    "\n",
    "# Interactive slider\n",
    "interact(update_histogram,bins=IntSlider(value=50, min=10, max=100, step=5, description=\"Bins:\"))"
   ]
  },
  {
   "cell_type": "markdown",
   "id": "255047fd-dfcb-40b5-97cb-f710eda1d5de",
   "metadata": {},
   "source": [
    "## Insight 4 — Daily Volatility\n",
    "Plot daily percent-change to inspect volatility and compute average daily volatility."
   ]
  },
  {
   "cell_type": "code",
   "execution_count": 8,
   "id": "bdfcce7f-9401-4315-932b-8cc691cd3672",
   "metadata": {},
   "outputs": [
    {
     "data": {
      "application/vnd.jupyter.widget-view+json": {
       "model_id": "d71aec4df84c4ed0bc27eeb5e59d36cd",
       "version_major": 2,
       "version_minor": 0
      },
      "text/plain": [
       "interactive(children=(IntRangeSlider(value=(2004, 2025), description='Year Range:', max=2025, min=2004), Outpu…"
      ]
     },
     "metadata": {},
     "output_type": "display_data"
    },
    {
     "name": "stdout",
     "output_type": "stream",
     "text": [
      "Average daily volatility (std dev of daily % change): 4.56%\n"
     ]
    }
   ],
   "source": [
    "# Calculate Daily % Change (Returns)\n",
    "#pct_change means (today's price - yesterday's price / yesterday's price)\n",
    "#here daily % change is same as returns \n",
    "df['Returns'] = df['Price'].pct_change() * 100\n",
    "# Drop first NaN (as it can cause errors)\n",
    "df = df.dropna(subset=['Returns'])\n",
    "df['Year'] = df['Date'].dt.year\n",
    "def update_volatility_chart(year_range):\n",
    "    start, end = year_range\n",
    "    filtered = df[(df['Year'] >= start) & (df['Year'] <= end)]\n",
    "    vol = filtered['Returns'].std()\n",
    "    fig = go.Figure()\n",
    "    fig.add_trace(go.Scatter(x=filtered['Date'],y=filtered['Returns'],mode='lines',line=dict(width=1.8),name='Returns'))\n",
    "    fig.update_layout(title=f\"📈 Daily Gold Price Change (%) — {start}-{end}<br><sup>Volatility (Std Dev): {vol:.2f}%</sup>\",xaxis_title=\"Date\",yaxis_title=\"Daily % Change\",template=\"plotly_white\",hovermode=\"x unified\",width=950,height=450)\n",
    "    fig.show()\n",
    "year_slider = IntRangeSlider(value=[df['Year'].min(), df['Year'].max()],min=df['Year'].min(),max=df['Year'].max(),step=1,description='Year Range:',continuous_update=True)\n",
    "interact(update_volatility_chart, year_range=year_slider)\n",
    "# Print overall volatility\n",
    "overall_vol = df['Returns'].std()\n",
    "print(f\"Average daily volatility (std dev of daily % change): {overall_vol:.2f}%\")"
   ]
  },
  {
   "cell_type": "markdown",
   "id": "d24661b9-19b3-43ee-b96d-9a2a9789b5db",
   "metadata": {},
   "source": [
    "## Insight 5 — Rolling Mean (Smoothed Trend)\n",
    "Plot the 30-day rolling mean to visualize the smoothed trend and detect reversals."
   ]
  },
  {
   "cell_type": "code",
   "execution_count": 9,
   "id": "50fa0a13-bcf6-4e86-89fc-af7cfae0eea2",
   "metadata": {},
   "outputs": [
    {
     "data": {
      "application/vnd.jupyter.widget-view+json": {
       "model_id": "815349d04e244c038e3759ef380ea8e2",
       "version_major": 2,
       "version_minor": 0
      },
      "text/plain": [
       "interactive(children=(IntSlider(value=30, description='Rolling Window:', max=90, min=5, step=5), Output()), _d…"
      ]
     },
     "metadata": {},
     "output_type": "display_data"
    },
    {
     "name": "stdout",
     "output_type": "stream",
     "text": [
      "The rolling mean removes short-term noise and highlights long-term price trends.\n",
      " When the price crosses above/below the moving average, it can signal potential buy/sell opportunities.\n"
     ]
    }
   ],
   "source": [
    "def update_rolling_chart(window):\n",
    "    df['Rolling Mean'] = df['Price'].rolling(window=window).mean()\n",
    "    fig = go.Figure()\n",
    "    fig.add_trace(go.Scatter(x=df['Date'],y=df['Price'],mode='lines',line=dict(color='lightgray', width=1.5),name='Actual Price'))\n",
    "    fig.add_trace(go.Scatter(x=df['Date'],y=df['Rolling Mean'],mode='lines',line=dict(color='blue', width=2.5),name=f'{window}-Day Rolling Mean'))\n",
    "    fig.update_layout(title=f\"📊 Gold Price Trend with {window}-Day Moving Average\",xaxis_title=\"Date\",yaxis_title=\"Price\",template=\"plotly_white\",hovermode=\"x unified\",width=950,height=500,legend=dict(orientation='h', yanchor='bottom', y=1.02, xanchor='right', x=1))\n",
    "    fig.show()\n",
    "\n",
    "interact(update_rolling_chart,window=IntSlider(value=30, min=5, max=90, step=5, description=\"Rolling Window:\"))\n",
    "print(\"The rolling mean removes short-term noise and highlights long-term price trends.\\n\"\n",
    "      \" When the price crosses above/below the moving average, it can signal potential buy/sell opportunities.\")"
   ]
  },
  {
   "cell_type": "markdown",
   "id": "c44205d1-0a09-4029-b07d-8c477abbcbae",
   "metadata": {},
   "source": [
    "## Insight 6 — Price Spikes Detection\n",
    "Detect and plot days with large daily changes (e.g., >2%). These are potential arbitrage or shock events."
   ]
  },
  {
   "cell_type": "code",
   "execution_count": 10,
   "id": "0dec579f-04d7-4ec8-8f9c-fed2933bf93c",
   "metadata": {},
   "outputs": [
    {
     "data": {
      "application/vnd.jupyter.widget-view+json": {
       "model_id": "4edabde73aef4ff685728c447df3ebe7",
       "version_major": 2,
       "version_minor": 0
      },
      "text/plain": [
       "interactive(children=(FloatSlider(value=2.0, description='Threshold (%):', max=10.0, min=0.5, step=0.5), Outpu…"
      ]
     },
     "metadata": {},
     "output_type": "display_data"
    },
    {
     "data": {
      "text/plain": [
       "<function __main__.update_spike_chart(threshold)>"
      ]
     },
     "execution_count": 10,
     "metadata": {},
     "output_type": "execute_result"
    }
   ],
   "source": [
    "# Ensure the data is precomputed\n",
    "df = df.dropna(subset=['Returns'])\n",
    "# Interactive function\n",
    "def update_spike_chart(threshold):\n",
    "    spikes = df[df['Returns'].abs() > threshold]\n",
    "    fig = go.Figure()\n",
    "    fig.add_trace(go.Scatter(x=df['Date'],y=df['Price'],mode='lines',line=dict(width=1.5, color='lightgray'),name='Gold Price'))\n",
    "    fig.add_trace(go.Scatter(x=spikes['Date'],y=spikes['Price'],mode='markers',marker=dict(color='red', size=8, symbol='circle'),name=f'Spikes (> {threshold:.1f}%)',hovertemplate='Date: %{x}<br>Price: %{y:.2f}<br>Change: %{customdata:.2f}%',customdata=spikes['Returns']))\n",
    "    fig.update_layout(title=f\"📈 Gold Price Spikes (> {threshold:.1f}% Returns)\",xaxis_title=\"Date\",yaxis_title=\"Price\",template=\"plotly_white\",width=950,height=450,legend=dict(orientation='h', yanchor='bottom', y=1.02, xanchor='right', x=1))\n",
    "    fig.show()\n",
    "    print(f\"Number of spike days (> {threshold:.1f}% change): {len(spikes)}\")\n",
    "    display(spikes.sort_values('Returns', key=abs, ascending=False).head(10))\n",
    "\n",
    "interact(update_spike_chart,threshold=FloatSlider(value=2.0, min=0.5, max=10.0, step=0.5, description='Threshold (%):'))"
   ]
  },
  {
   "cell_type": "markdown",
   "id": "75508aae-1736-4cbf-8fe0-4fc9a1c5567f",
   "metadata": {},
   "source": [
    "## Insight 7 - Top Profitable Days (Biggest Positive Moves)\n",
    "Which days gold gave the highest daily % gain."
   ]
  },
  {
   "cell_type": "code",
   "execution_count": 11,
   "id": "4315de14-f8f5-4431-80a6-c324eba46e67",
   "metadata": {},
   "outputs": [
    {
     "data": {
      "application/vnd.jupyter.widget-view+json": {
       "model_id": "9c964ec187134ea68efa44250a3c4628",
       "version_major": 2,
       "version_minor": 0
      },
      "text/plain": [
       "interactive(children=(IntSlider(value=10, description='Top N Days:', max=30, min=5), Output()), _dom_classes=(…"
      ]
     },
     "metadata": {},
     "output_type": "display_data"
    },
    {
     "data": {
      "text/plain": [
       "<function __main__.update_top_gains(n)>"
      ]
     },
     "execution_count": 11,
     "metadata": {},
     "output_type": "execute_result"
    }
   ],
   "source": [
    "df = df.dropna(subset=['Returns'])\n",
    "def update_top_gains(n):\n",
    "    top_gains = df.sort_values(\"Returns\", ascending=False).head(n)\n",
    "    fig = go.Figure()\n",
    "    fig.add_trace(go.Bar(x=top_gains[\"Date\"],y=top_gains[\"Returns\"],marker_color='blue',hovertemplate=(\"Date: %{x}<br>\"\"Price: %{customdata[0]:.2f}<br>\"\"Change: %{y:.2f}%\"),customdata=top_gains[[\"Price\"]].values,name='Top Gain Days'))\n",
    "    fig.update_layout(title=f\"Top {n} Gold Gain Days (Best Days to Sell)\",xaxis_title=\"Date\",yaxis_title=\"Returns\",template=\"plotly_white\",width=950,height=450,xaxis_tickangle=-45)\n",
    "    fig.show()\n",
    "    print(f\"These are the top {n} days gold surged the most (good SELL days):\")\n",
    "    display(top_gains[[\"Date\", \"Price\", \"Returns\"]])\n",
    "\n",
    "interact(update_top_gains,n=IntSlider(value=10, min=5, max=30, step=1, description=\"Top N Days:\"))"
   ]
  },
  {
   "cell_type": "markdown",
   "id": "a99d76a4-d4ee-4271-b355-f7af63ef937d",
   "metadata": {},
   "source": [
    "## Insight 8 - Worst Days (Biggest Negative Moves)\n",
    "Which days gold dropped sharply → best buying opportunities."
   ]
  },
  {
   "cell_type": "code",
   "execution_count": 12,
   "id": "c69bfe64-9031-443e-be3f-be77b0b46a34",
   "metadata": {},
   "outputs": [
    {
     "data": {
      "application/vnd.jupyter.widget-view+json": {
       "model_id": "298c377050f14866a41384f43da4b0ca",
       "version_major": 2,
       "version_minor": 0
      },
      "text/plain": [
       "interactive(children=(IntSlider(value=10, description='Top N Days:', max=30, min=5), Output()), _dom_classes=(…"
      ]
     },
     "metadata": {},
     "output_type": "display_data"
    },
    {
     "data": {
      "text/plain": [
       "<function __main__.update_top_losses(n)>"
      ]
     },
     "execution_count": 12,
     "metadata": {},
     "output_type": "execute_result"
    }
   ],
   "source": [
    "df = df.dropna(subset=['Returns'])\n",
    "def update_top_losses(n):\n",
    "    # Get top N loss days (most negative % change)\n",
    "    top_losses = df.sort_values(\"Returns\", ascending=True).head(n)\n",
    "    fig = go.Figure()\n",
    "    fig.add_trace(go.Bar(\n",
    "        x=top_losses[\"Date\"],y=top_losses[\"Returns\"],marker_color='crimson',customdata=top_losses[[\"Price\"]].values,hovertemplate=\n",
    "            \"Date: %{x}<br>\" +\n",
    "            \"Price: %{customdata[0]:.2f}<br>\" +\n",
    "            \"Change: %{y:.2f}%\" ,name='Top Loss Days'))\n",
    "    fig.update_layout(title=f\"Top {n} Gold Loss Days (Best Days to Buy)\",xaxis_title=\"Date\",yaxis_title=\"Returns\",template=\"plotly_white\",width=950,height=450,xaxis_tickangle=-45)\n",
    "    fig.show()\n",
    "    print(f\"These are the top {n} days gold dropped the most (good BUY days):\")\n",
    "    display(top_losses[[\"Date\", \"Price\", \"Returns\"]])\n",
    "interact(update_top_losses,n=IntSlider(value=10, min=5, max=30, step=1, description=\"Top N Days:\"))"
   ]
  },
  {
   "cell_type": "markdown",
   "id": "c6cbd886-4491-4e14-bb98-826abe431966",
   "metadata": {},
   "source": [
    "## Insight 9 - Best Months to Trade\n",
    "Which months (across all years) usually give higher average returns."
   ]
  },
  {
   "cell_type": "code",
   "execution_count": 13,
   "id": "8874b2f7-f940-410c-aaab-78bf12426d6c",
   "metadata": {},
   "outputs": [
    {
     "data": {
      "application/vnd.jupyter.widget-view+json": {
       "model_id": "431c5af2014247ae8f67aa8399f08ea4",
       "version_major": 2,
       "version_minor": 0
      },
      "text/plain": [
       "interactive(children=(FloatSlider(value=0.0, description='Highlight > %:', max=1.0, min=-1.0), Output()), _dom…"
      ]
     },
     "metadata": {},
     "output_type": "display_data"
    },
    {
     "data": {
      "text/plain": [
       "<function __main__.update_monthly_chart(threshold)>"
      ]
     },
     "execution_count": 13,
     "metadata": {},
     "output_type": "execute_result"
    }
   ],
   "source": [
    "df = df.dropna(subset=['Returns'])\n",
    "df['Month'] = df['Date'].dt.month\n",
    "monthly_avg = df.groupby(\"Month\")[\"Returns\"].mean().reset_index()\n",
    "def update_monthly_chart(threshold):\n",
    "    colors = ['blue' if x <= threshold else 'orange' for x in monthly_avg['Returns']]\n",
    "    fig = go.Figure()\n",
    "    fig.add_trace(go.Bar(x=monthly_avg[\"Month\"],y=monthly_avg[\"Returns\"],marker_color=colors,text=monthly_avg[\"Returns\"].round(2),textposition='auto',name='Monthly Avg % Change'))\n",
    "    fig.update_layout(title=f\"📊 Average Monthly Return (%) — Highlight > {threshold:.2f}%\",xaxis_title=\"Month\",yaxis_title=\"Average % Change\",template=\"plotly_white\",width=900,height=450)\n",
    "    fig.show()\n",
    "    print(\"Months with higher avg % change are more profitable trading periods:\")\n",
    "    display(monthly_avg)\n",
    "interact(update_monthly_chart,threshold=FloatSlider(value=0.0, min=-1.0, max=1.0, step=0.1, description=\"Highlight > %:\"))"
   ]
  },
  {
   "cell_type": "markdown",
   "id": "28220321-6a47-450a-b3bb-f87bef1d1279",
   "metadata": {},
   "source": [
    "## Insight 10 - Weekday Analysis\n",
    "Which weekdays (Mon–Fri) are most volatile/profitable."
   ]
  },
  {
   "cell_type": "code",
   "execution_count": 14,
   "id": "4f9585e4-9b4b-447d-8db3-881a40e5aa72",
   "metadata": {},
   "outputs": [
    {
     "data": {
      "application/vnd.jupyter.widget-view+json": {
       "model_id": "73226e0ff5a6433e962275d4a336f4b1",
       "version_major": 2,
       "version_minor": 0
      },
      "text/plain": [
       "interactive(children=(FloatSlider(value=0.0, description='Highlight > %:', max=1.0, min=-1.0, step=0.05), Outp…"
      ]
     },
     "metadata": {},
     "output_type": "display_data"
    },
    {
     "data": {
      "text/plain": [
       "<function __main__.update_weekday_chart(threshold)>"
      ]
     },
     "execution_count": 14,
     "metadata": {},
     "output_type": "execute_result"
    }
   ],
   "source": [
    "df = df.dropna(subset=['Returns'])\n",
    "df['Weekday'] = df['Date'].dt.day_name()\n",
    "weekday_avg = df.groupby(\"Weekday\")[\"Returns\"].mean().reindex([\"Monday\", \"Tuesday\", \"Wednesday\", \"Thursday\", \"Friday\"]).reset_index()\n",
    "def update_weekday_chart(threshold):\n",
    "    colors = ['blue' if x <= threshold else 'orange' for x in weekday_avg['Returns']]\n",
    "    fig = go.Figure()\n",
    "    fig.add_trace(go.Bar(x=weekday_avg[\"Weekday\"],y=weekday_avg[\"Returns\"],marker_color=colors,text=weekday_avg[\"Returns\"].round(2),textposition='auto',name='Avg % Change'))\n",
    "    fig.update_layout(\n",
    "        title=f\"Average Return by Weekday — Highlight > {threshold:.2f}%\",xaxis_title=\"Weekday\",yaxis_title=\"Average % Change\",template=\"plotly_white\",width=850,height=450)\n",
    "    fig.show()\n",
    "    print(\"Certain weekdays show more movement → better for short-term trades.\")\n",
    "    display(weekday_avg)\n",
    "interact(update_weekday_chart,threshold=FloatSlider(value=0.0, min=-1.0, max=1.0, step=0.05, description=\"Highlight > %:\"))"
   ]
  },
  {
   "cell_type": "markdown",
   "id": "b9405819-89a9-44c3-82d4-8eb5471dd041",
   "metadata": {},
   "source": [
    "## Insight 11 - Most Volatile Periods (Rolling Volatility)\n",
    "Detect windows of high risk/high opportunity."
   ]
  },
  {
   "cell_type": "code",
   "execution_count": 15,
   "id": "073816ed-b68c-4472-813a-c731b7e18c02",
   "metadata": {},
   "outputs": [
    {
     "data": {
      "application/vnd.jupyter.widget-view+json": {
       "model_id": "56bbe8bc0ec34d4ea24e65ca3fee47dd",
       "version_major": 2,
       "version_minor": 0
      },
      "text/plain": [
       "interactive(children=(IntSlider(value=30, description='Rolling Window:', max=60, min=10, step=5), Output()), _…"
      ]
     },
     "metadata": {},
     "output_type": "display_data"
    },
    {
     "data": {
      "text/plain": [
       "<function __main__.update_rolling_volatility(window)>"
      ]
     },
     "execution_count": 15,
     "metadata": {},
     "output_type": "execute_result"
    }
   ],
   "source": [
    "df = df.dropna(subset=['Returns'])\n",
    "def update_rolling_volatility(window):\n",
    "    df['Rolling_Volatility'] = df['Returns'].rolling(window=window).std()\n",
    "    fig = go.Figure()\n",
    "    fig.add_trace(go.Scatter(x=df['Date'],y=df['Rolling_Volatility'],mode='lines',line=dict(color='blue', width=2),name=f'{window}-Day Rolling Volatility'))\n",
    "    fig.update_layout(title=f\" {window}-Day Rolling Volatility (%)\",xaxis_title=\"Date\",yaxis_title=\"Volatility (%)\",template=\"plotly_white\",width=950,height=450,hovermode=\"x unified\")\n",
    "    fig.show()\n",
    "    print(\"Periods with higher volatility are ideal for arbitrage opportunities.\")\n",
    "interact(update_rolling_volatility, window=IntSlider(value=30, min=10, max=60, step=5, description=\"Rolling Window:\"))"
   ]
  },
  {
   "cell_type": "markdown",
   "id": "871bc15f-5a75-4c7c-98ea-88f97b6f6bd5",
   "metadata": {},
   "source": [
    "## Summary: Actionable Trading Insights\n",
    "Best SELL Days: Top surge days (price spiked)\n",
    "\n",
    "Best BUY Days: Top drop days (price crashed)\n",
    "\n",
    "Best Months: Seasonality of returns\n",
    "\n",
    "Best Weekdays: Which weekdays are most profitable historically\n",
    "\n",
    "High-Volatility Periods: Detect risky but lucrative arbitrage windows"
   ]
  }
 ],
 "metadata": {
  "kernelspec": {
   "display_name": "Python [conda env:base] *",
   "language": "python",
   "name": "conda-base-py"
  },
  "language_info": {
   "codemirror_mode": {
    "name": "ipython",
    "version": 3
   },
   "file_extension": ".py",
   "mimetype": "text/x-python",
   "name": "python",
   "nbconvert_exporter": "python",
   "pygments_lexer": "ipython3",
   "version": "3.13.5"
  }
 },
 "nbformat": 4,
 "nbformat_minor": 5
}
